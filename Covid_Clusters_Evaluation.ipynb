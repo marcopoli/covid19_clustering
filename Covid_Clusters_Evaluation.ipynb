{
  "nbformat": 4,
  "nbformat_minor": 0,
  "metadata": {
    "colab": {
      "name": "Covid_Clusters_Evaluation.ipynb",
      "provenance": [],
      "collapsed_sections": [
        "sMu_SplOP77K",
        "rniqYQohP5JK",
        "vwFl-Ra3PRWq",
        "R24XgxaBPWf8",
        "QEnqLEHRPpLS",
        "DCH3lWWPQCiC",
        "Spgu1A1TQSKf",
        "0TGTfOSdQSKg",
        "lXqe4oe8QSKh",
        "Rk6d79i0QSKi"
      ]
    },
    "kernelspec": {
      "name": "python3",
      "display_name": "Python 3"
    },
    "language_info": {
      "name": "python"
    }
  },
  "cells": [
    {
      "cell_type": "code",
      "execution_count": 1,
      "metadata": {
        "id": "Vj9KICfxObuX"
      },
      "outputs": [],
      "source": [
        "from sklearn import metrics"
      ]
    },
    {
      "cell_type": "code",
      "source": [
        "labels_true = [0,0,14,0,0,0,0,3,14,1,1,1,1,1,1,1,1,1,1,1,1,1,2,2,2,2,2,2,2,3,3,3,3,4,4,4,4,4,4,4,4,4,4,5,0,5,5,5,5,5,6,0,5,5,5,5,5,5,6,6,7,7,15,7,15,7,7,8,8,9,9,9,9,9,9,9,9,9,9,9,10,10,11,15,11,11,11,11,11,12,12,12,13,13,13,0,13,16,13,13,13,13,13,13,13,13,13,13]"
      ],
      "metadata": {
        "id": "Okk1fPiIOiXr"
      },
      "execution_count": 2,
      "outputs": []
    },
    {
      "cell_type": "markdown",
      "source": [
        "#Conf-1"
      ],
      "metadata": {
        "id": "sMu_SplOP77K"
      }
    },
    {
      "cell_type": "code",
      "source": [
        "labels_pred = [0,0,0,0,0,0,0,0,0,1,1,1,1,1,1,1,1,1,1,1,1,1,2,2,2,2,2,2,2,3,3,3,3,4,4,4,4,4,4,4,4,4,4,5,5,5,5,5,5,5,5,5,5,5,5,5,5,5,6,6,7,7,7,7,7,7,7,8,8,9,9,9,9,9,9,9,9,9,9,9,10,10,11,11,11,11,11,11,11,12,12,12,13,13,13,13,13,13,13,13,13,13,13,13,13,13,13,13]"
      ],
      "metadata": {
        "id": "Pm0mSPEWOww9"
      },
      "execution_count": 3,
      "outputs": []
    },
    {
      "cell_type": "markdown",
      "source": [
        "##Rand Score"
      ],
      "metadata": {
        "id": "rniqYQohP5JK"
      }
    },
    {
      "cell_type": "code",
      "source": [
        "metrics.rand_score(labels_true, labels_pred)"
      ],
      "metadata": {
        "colab": {
          "base_uri": "https://localhost:8080/"
        },
        "id": "UT57YWWjO8oK",
        "outputId": "ecd697b7-1642-4671-da88-68b8877f4ecd"
      },
      "execution_count": 4,
      "outputs": [
        {
          "output_type": "execute_result",
          "data": {
            "text/plain": [
              "0.9773277950848044"
            ]
          },
          "metadata": {},
          "execution_count": 4
        }
      ]
    },
    {
      "cell_type": "code",
      "source": [
        "metrics.adjusted_rand_score(labels_true, labels_pred)"
      ],
      "metadata": {
        "colab": {
          "base_uri": "https://localhost:8080/"
        },
        "id": "ow7660mKO_Sh",
        "outputId": "de6a8c2c-67e2-4f30-cb31-25e62bf470cc"
      },
      "execution_count": 5,
      "outputs": [
        {
          "output_type": "execute_result",
          "data": {
            "text/plain": [
              "0.8502677076133569"
            ]
          },
          "metadata": {},
          "execution_count": 5
        }
      ]
    },
    {
      "cell_type": "markdown",
      "source": [
        "##Mutual info Score"
      ],
      "metadata": {
        "id": "vwFl-Ra3PRWq"
      }
    },
    {
      "cell_type": "code",
      "source": [
        "metrics.adjusted_mutual_info_score(labels_true, labels_pred)  "
      ],
      "metadata": {
        "colab": {
          "base_uri": "https://localhost:8080/"
        },
        "id": "hXUx6zMqPCQb",
        "outputId": "19ef4c60-4a57-4781-b359-8cf8f63575fc"
      },
      "execution_count": 6,
      "outputs": [
        {
          "output_type": "execute_result",
          "data": {
            "text/plain": [
              "0.878273690810663"
            ]
          },
          "metadata": {},
          "execution_count": 6
        }
      ]
    },
    {
      "cell_type": "code",
      "source": [
        "metrics.normalized_mutual_info_score(labels_true, labels_pred)  "
      ],
      "metadata": {
        "colab": {
          "base_uri": "https://localhost:8080/"
        },
        "id": "H-Fk-85TPI9x",
        "outputId": "cb4f9efa-c895-45a2-da58-4924f8349510"
      },
      "execution_count": 7,
      "outputs": [
        {
          "output_type": "execute_result",
          "data": {
            "text/plain": [
              "0.91671787821789"
            ]
          },
          "metadata": {},
          "execution_count": 7
        }
      ]
    },
    {
      "cell_type": "code",
      "source": [
        "metrics.mutual_info_score(labels_true, labels_pred)"
      ],
      "metadata": {
        "colab": {
          "base_uri": "https://localhost:8080/"
        },
        "id": "1PHm0PvkPM-N",
        "outputId": "73128d3b-a705-419a-b1c8-24bf6873286e"
      },
      "execution_count": 8,
      "outputs": [
        {
          "output_type": "execute_result",
          "data": {
            "text/plain": [
              "2.317987597336064"
            ]
          },
          "metadata": {},
          "execution_count": 8
        }
      ]
    },
    {
      "cell_type": "markdown",
      "source": [
        "##Homogeneity"
      ],
      "metadata": {
        "id": "R24XgxaBPWf8"
      }
    },
    {
      "cell_type": "code",
      "source": [
        "metrics.homogeneity_score(labels_true, labels_pred)\n"
      ],
      "metadata": {
        "colab": {
          "base_uri": "https://localhost:8080/"
        },
        "id": "17jYdUGyPVpC",
        "outputId": "01078bc2-f334-49de-f5be-44ef699d9f75"
      },
      "execution_count": 9,
      "outputs": [
        {
          "output_type": "execute_result",
          "data": {
            "text/plain": [
              "0.8881502195130266"
            ]
          },
          "metadata": {},
          "execution_count": 9
        }
      ]
    },
    {
      "cell_type": "code",
      "source": [
        "metrics.completeness_score(labels_true, labels_pred)"
      ],
      "metadata": {
        "colab": {
          "base_uri": "https://localhost:8080/"
        },
        "id": "_wBsSvwqPgmy",
        "outputId": "bd7bffd3-a63c-4304-e651-29ca9188271c"
      },
      "execution_count": 10,
      "outputs": [
        {
          "output_type": "execute_result",
          "data": {
            "text/plain": [
              "0.9471843914623576"
            ]
          },
          "metadata": {},
          "execution_count": 10
        }
      ]
    },
    {
      "cell_type": "code",
      "source": [
        "metrics.v_measure_score(labels_true, labels_pred)"
      ],
      "metadata": {
        "colab": {
          "base_uri": "https://localhost:8080/"
        },
        "id": "zkh1Z9cMPhR0",
        "outputId": "282df539-aad0-4f6c-bd08-ac70b5ccec4f"
      },
      "execution_count": 11,
      "outputs": [
        {
          "output_type": "execute_result",
          "data": {
            "text/plain": [
              "0.9167178782178901"
            ]
          },
          "metadata": {},
          "execution_count": 11
        }
      ]
    },
    {
      "cell_type": "markdown",
      "source": [
        "##Fowlkes-Mallows scores"
      ],
      "metadata": {
        "id": "QEnqLEHRPpLS"
      }
    },
    {
      "cell_type": "code",
      "source": [
        "metrics.fowlkes_mallows_score(labels_true, labels_pred)"
      ],
      "metadata": {
        "colab": {
          "base_uri": "https://localhost:8080/"
        },
        "id": "kYXEmG9UPp1j",
        "outputId": "bbe2ea5f-d65c-4174-f19b-b29d645d6ed8"
      },
      "execution_count": 12,
      "outputs": [
        {
          "output_type": "execute_result",
          "data": {
            "text/plain": [
              "0.8652228936110787"
            ]
          },
          "metadata": {},
          "execution_count": 12
        }
      ]
    },
    {
      "cell_type": "markdown",
      "source": [
        "#Conf-2"
      ],
      "metadata": {
        "id": "DCH3lWWPQCiC"
      }
    },
    {
      "cell_type": "code",
      "source": [
        "labels_pred = [0,0,9,0,0,0,0,9,9,1,1,1,1,1,1,1,1,1,1,1,1,1,2,2,2,2,2,2,2,3,3,3,3,4,4,4,4,4,4,4,4,4,4,5,0,5,5,5,5,5,2,0,5,5,5,5,5,5,6,6,7,7,15,7,15,7,7,4,4,9,9,9,9,9,9,9,9,9,9,9,1,5,11,15,11,11,11,11,11,12,12,12,13,13,13,0,13,1,13,13,13,13,13,1,13,13,13,13]"
      ],
      "metadata": {
        "id": "X1OZCzugP_Xs"
      },
      "execution_count": 13,
      "outputs": []
    },
    {
      "cell_type": "markdown",
      "source": [
        "##Rand Score"
      ],
      "metadata": {
        "id": "Spgu1A1TQSKf"
      }
    },
    {
      "cell_type": "code",
      "source": [
        "metrics.rand_score(labels_true, labels_pred)"
      ],
      "metadata": {
        "colab": {
          "base_uri": "https://localhost:8080/"
        },
        "outputId": "dbb38927-65cd-4d2e-b798-370ac4fa929f",
        "id": "fgwPLID-QSKg"
      },
      "execution_count": 14,
      "outputs": [
        {
          "output_type": "execute_result",
          "data": {
            "text/plain": [
              "0.9764624437521634"
            ]
          },
          "metadata": {},
          "execution_count": 14
        }
      ]
    },
    {
      "cell_type": "code",
      "source": [
        "metrics.adjusted_rand_score(labels_true, labels_pred)"
      ],
      "metadata": {
        "colab": {
          "base_uri": "https://localhost:8080/"
        },
        "outputId": "81da1dcb-eb7f-4b16-8e65-2a1a1d44d893",
        "id": "KxDu83zkQSKg"
      },
      "execution_count": 15,
      "outputs": [
        {
          "output_type": "execute_result",
          "data": {
            "text/plain": [
              "0.8476538190266771"
            ]
          },
          "metadata": {},
          "execution_count": 15
        }
      ]
    },
    {
      "cell_type": "markdown",
      "source": [
        "##Mutual info Score"
      ],
      "metadata": {
        "id": "0TGTfOSdQSKg"
      }
    },
    {
      "cell_type": "code",
      "source": [
        "metrics.adjusted_mutual_info_score(labels_true, labels_pred)  "
      ],
      "metadata": {
        "colab": {
          "base_uri": "https://localhost:8080/"
        },
        "outputId": "f761526c-f3f1-4593-c655-38b74fb5800a",
        "id": "uIsUxTs6QSKg"
      },
      "execution_count": 16,
      "outputs": [
        {
          "output_type": "execute_result",
          "data": {
            "text/plain": [
              "0.8893489748014987"
            ]
          },
          "metadata": {},
          "execution_count": 16
        }
      ]
    },
    {
      "cell_type": "code",
      "source": [
        "metrics.normalized_mutual_info_score(labels_true, labels_pred)  "
      ],
      "metadata": {
        "colab": {
          "base_uri": "https://localhost:8080/"
        },
        "outputId": "064ae37e-cbb3-4ef6-9be2-3f8fed6a3102",
        "id": "p1GFmWqOQSKh"
      },
      "execution_count": 17,
      "outputs": [
        {
          "output_type": "execute_result",
          "data": {
            "text/plain": [
              "0.9232015365437544"
            ]
          },
          "metadata": {},
          "execution_count": 17
        }
      ]
    },
    {
      "cell_type": "code",
      "source": [
        "metrics.mutual_info_score(labels_true, labels_pred)"
      ],
      "metadata": {
        "colab": {
          "base_uri": "https://localhost:8080/"
        },
        "outputId": "3a8c282d-a1bc-432c-e02b-d4b7d7e9d5b4",
        "id": "BWogURGwQSKh"
      },
      "execution_count": 18,
      "outputs": [
        {
          "output_type": "execute_result",
          "data": {
            "text/plain": [
              "2.312246591403603"
            ]
          },
          "metadata": {},
          "execution_count": 18
        }
      ]
    },
    {
      "cell_type": "markdown",
      "source": [
        "##Homogeneity"
      ],
      "metadata": {
        "id": "lXqe4oe8QSKh"
      }
    },
    {
      "cell_type": "code",
      "source": [
        "metrics.homogeneity_score(labels_true, labels_pred)\n"
      ],
      "metadata": {
        "colab": {
          "base_uri": "https://localhost:8080/"
        },
        "outputId": "49b358a3-b5a4-4ac1-e743-db515d524e0e",
        "id": "DmAm8OndQSKh"
      },
      "execution_count": 19,
      "outputs": [
        {
          "output_type": "execute_result",
          "data": {
            "text/plain": [
              "0.8859505202199843"
            ]
          },
          "metadata": {},
          "execution_count": 19
        }
      ]
    },
    {
      "cell_type": "code",
      "source": [
        "metrics.completeness_score(labels_true, labels_pred)"
      ],
      "metadata": {
        "colab": {
          "base_uri": "https://localhost:8080/"
        },
        "outputId": "9a96c2ed-dab4-484c-e026-0add8591bd4e",
        "id": "AeQg8FtPQSKh"
      },
      "execution_count": 20,
      "outputs": [
        {
          "output_type": "execute_result",
          "data": {
            "text/plain": [
              "0.9637225871041025"
            ]
          },
          "metadata": {},
          "execution_count": 20
        }
      ]
    },
    {
      "cell_type": "code",
      "source": [
        "metrics.v_measure_score(labels_true, labels_pred)"
      ],
      "metadata": {
        "colab": {
          "base_uri": "https://localhost:8080/"
        },
        "outputId": "40f481c1-16ad-4a0c-8a73-856cf0fd9465",
        "id": "Hfyg2ZZiQSKh"
      },
      "execution_count": 21,
      "outputs": [
        {
          "output_type": "execute_result",
          "data": {
            "text/plain": [
              "0.9232015365437543"
            ]
          },
          "metadata": {},
          "execution_count": 21
        }
      ]
    },
    {
      "cell_type": "markdown",
      "source": [
        "##Fowlkes-Mallows scores"
      ],
      "metadata": {
        "id": "Rk6d79i0QSKi"
      }
    },
    {
      "cell_type": "code",
      "source": [
        "metrics.fowlkes_mallows_score(labels_true, labels_pred)"
      ],
      "metadata": {
        "colab": {
          "base_uri": "https://localhost:8080/"
        },
        "outputId": "737ccc82-5d9e-4cd9-f2b7-39fe8abe0fc3",
        "id": "cpGDAkQ_QSKi"
      },
      "execution_count": 22,
      "outputs": [
        {
          "output_type": "execute_result",
          "data": {
            "text/plain": [
              "0.864579376669953"
            ]
          },
          "metadata": {},
          "execution_count": 22
        }
      ]
    },
    {
      "cell_type": "markdown",
      "source": [
        "#CONF-3"
      ],
      "metadata": {
        "id": "RnOE-kIkSGpY"
      }
    },
    {
      "cell_type": "code",
      "source": [
        "labels_pred = [0,0,9,0,0,0,2,3,9,4,1,9,1,1,4,1,5,1,1,1,0,1,2,2,2,2,11,2,2,3,0,3,3,4,4,4,4,4,4,4,4,4,4,5,0,9,5,4,5,5,6,0,5,0,5,1,4,5,6,9,7,7,11,7,11,7,0,9,9,9,9,9,9,9,0,7,9,9,9,9,10,10,11,1,11,11,9,11,11,12,12,12,13,9,9,4,13,1,13,13,13,13,13,4,13,13,13,13]"
      ],
      "metadata": {
        "id": "LI1i4GaeSMDn"
      },
      "execution_count": 23,
      "outputs": []
    },
    {
      "cell_type": "markdown",
      "source": [
        "##Rand Score"
      ],
      "metadata": {
        "id": "8KfnmW1nSMDn"
      }
    },
    {
      "cell_type": "code",
      "source": [
        "metrics.rand_score(labels_true, labels_pred)"
      ],
      "metadata": {
        "colab": {
          "base_uri": "https://localhost:8080/"
        },
        "outputId": "b6c21ff8-9a42-43b7-fc04-abda5df8ffcd",
        "id": "jQq_e1n7SMDo"
      },
      "execution_count": 24,
      "outputs": [
        {
          "output_type": "execute_result",
          "data": {
            "text/plain": [
              "0.9141571478020076"
            ]
          },
          "metadata": {},
          "execution_count": 24
        }
      ]
    },
    {
      "cell_type": "code",
      "source": [
        "metrics.adjusted_rand_score(labels_true, labels_pred)"
      ],
      "metadata": {
        "colab": {
          "base_uri": "https://localhost:8080/"
        },
        "outputId": "aec2de14-00bc-4468-8d93-28f210e8b2ed",
        "id": "06HY0v7ASMDo"
      },
      "execution_count": 25,
      "outputs": [
        {
          "output_type": "execute_result",
          "data": {
            "text/plain": [
              "0.45978033727159934"
            ]
          },
          "metadata": {},
          "execution_count": 25
        }
      ]
    },
    {
      "cell_type": "markdown",
      "source": [
        "##Mutual info Score"
      ],
      "metadata": {
        "id": "CGtfXI5QSMDo"
      }
    },
    {
      "cell_type": "code",
      "source": [
        "metrics.adjusted_mutual_info_score(labels_true, labels_pred)  "
      ],
      "metadata": {
        "colab": {
          "base_uri": "https://localhost:8080/"
        },
        "outputId": "be85ccc5-5301-4a79-c750-4fccbda286ac",
        "id": "uCjnkZc2SMDo"
      },
      "execution_count": 26,
      "outputs": [
        {
          "output_type": "execute_result",
          "data": {
            "text/plain": [
              "0.5768435613350993"
            ]
          },
          "metadata": {},
          "execution_count": 26
        }
      ]
    },
    {
      "cell_type": "code",
      "source": [
        "metrics.normalized_mutual_info_score(labels_true, labels_pred)  "
      ],
      "metadata": {
        "colab": {
          "base_uri": "https://localhost:8080/"
        },
        "outputId": "3cab6b75-bc81-4b1c-d3ea-dc84cf12ab5b",
        "id": "EpnDPEqmSMDo"
      },
      "execution_count": 27,
      "outputs": [
        {
          "output_type": "execute_result",
          "data": {
            "text/plain": [
              "0.7053168973877161"
            ]
          },
          "metadata": {},
          "execution_count": 27
        }
      ]
    },
    {
      "cell_type": "code",
      "source": [
        "metrics.mutual_info_score(labels_true, labels_pred)"
      ],
      "metadata": {
        "colab": {
          "base_uri": "https://localhost:8080/"
        },
        "outputId": "07bce8b5-cc45-405c-b557-92c6815e109a",
        "id": "WB2DcEulSMDo"
      },
      "execution_count": 28,
      "outputs": [
        {
          "output_type": "execute_result",
          "data": {
            "text/plain": [
              "1.7571152868830895"
            ]
          },
          "metadata": {},
          "execution_count": 28
        }
      ]
    },
    {
      "cell_type": "markdown",
      "source": [
        "##Homogeneity"
      ],
      "metadata": {
        "id": "f38fbX1GSMDp"
      }
    },
    {
      "cell_type": "code",
      "source": [
        "metrics.homogeneity_score(labels_true, labels_pred)"
      ],
      "metadata": {
        "colab": {
          "base_uri": "https://localhost:8080/"
        },
        "outputId": "a67eaef2-f3d1-4e79-ba41-fbc39fa3b1d1",
        "id": "mqsqCULCSMDp"
      },
      "execution_count": 29,
      "outputs": [
        {
          "output_type": "execute_result",
          "data": {
            "text/plain": [
              "0.6732487824992688"
            ]
          },
          "metadata": {},
          "execution_count": 29
        }
      ]
    },
    {
      "cell_type": "code",
      "source": [
        "metrics.completeness_score(labels_true, labels_pred)"
      ],
      "metadata": {
        "colab": {
          "base_uri": "https://localhost:8080/"
        },
        "outputId": "b2cc97ba-28af-4ebb-b17e-256203f31636",
        "id": "zpoNKisISMDp"
      },
      "execution_count": 30,
      "outputs": [
        {
          "output_type": "execute_result",
          "data": {
            "text/plain": [
              "0.7405927321730548"
            ]
          },
          "metadata": {},
          "execution_count": 30
        }
      ]
    },
    {
      "cell_type": "code",
      "source": [
        "metrics.v_measure_score(labels_true, labels_pred)"
      ],
      "metadata": {
        "colab": {
          "base_uri": "https://localhost:8080/"
        },
        "outputId": "f6607bc7-613d-40fc-d783-2dcfed20c3fd",
        "id": "3AXkztwgSMDp"
      },
      "execution_count": 31,
      "outputs": [
        {
          "output_type": "execute_result",
          "data": {
            "text/plain": [
              "0.7053168973877161"
            ]
          },
          "metadata": {},
          "execution_count": 31
        }
      ]
    },
    {
      "cell_type": "markdown",
      "source": [
        "##Fowlkes-Mallows scores"
      ],
      "metadata": {
        "id": "1QDhX_3dSMDq"
      }
    },
    {
      "cell_type": "code",
      "source": [
        "metrics.fowlkes_mallows_score(labels_true, labels_pred)"
      ],
      "metadata": {
        "colab": {
          "base_uri": "https://localhost:8080/"
        },
        "outputId": "c1513fa4-34e7-48d9-b676-b391d012af39",
        "id": "uEKmpIN4SMDq"
      },
      "execution_count": 32,
      "outputs": [
        {
          "output_type": "execute_result",
          "data": {
            "text/plain": [
              "0.5100082866347841"
            ]
          },
          "metadata": {},
          "execution_count": 32
        }
      ]
    }
  ]
}